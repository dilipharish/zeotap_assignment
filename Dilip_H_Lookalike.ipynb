{
  "nbformat": 4,
  "nbformat_minor": 0,
  "metadata": {
    "colab": {
      "provenance": []
    },
    "kernelspec": {
      "name": "python3",
      "display_name": "Python 3"
    },
    "language_info": {
      "name": "python"
    }
  },
  "cells": [
    {
      "cell_type": "code",
      "source": [
        "import pandas as pd\n",
        "import numpy as np\n",
        "from sklearn.metrics.pairwise import cosine_similarity\n",
        "from sklearn.preprocessing import OneHotEncoder\n",
        "\n",
        "# Step 1: Load the data\n",
        "customers = pd.read_csv(\"Customers.csv\")\n",
        "products = pd.read_csv(\"Products.csv\")\n",
        "transactions = pd.read_csv(\"Transactions.csv\")\n",
        "\n",
        "# Step 2: Preprocessing and feature engineering\n",
        "\n",
        "# One-hot encoding 'Region' for Content-Based Filtering (using only the 'Region' column)\n",
        "encoder = OneHotEncoder()\n",
        "region_encoded = encoder.fit_transform(customers[[\"Region\"]]).toarray()  # Only region is used for content-based filtering\n",
        "region_df = pd.DataFrame(region_encoded, columns=encoder.get_feature_names_out([\"Region\"]))\n",
        "customers = pd.concat([customers, region_df], axis=1)\n",
        "\n",
        "# Create a user-product interaction matrix (Collaborative Filtering)\n",
        "transaction_data = transactions.groupby(['CustomerID', 'ProductID']).agg({'Quantity': 'sum', 'TotalValue': 'sum'}).reset_index()\n",
        "\n",
        "# Create a pivot table for collaborative filtering (User-Product matrix)\n",
        "user_product_matrix = transaction_data.pivot_table(index='CustomerID', columns='ProductID', values='TotalValue', fill_value=0)\n",
        "\n",
        "# Step 3: Collaborative Filtering (Cosine Similarity on Transaction History)\n",
        "user_similarity_matrix = cosine_similarity(user_product_matrix)\n",
        "\n",
        "# Step 4: Content-Based Filtering (Cosine Similarity on 'Region' only)\n",
        "profile_similarity_matrix = cosine_similarity(region_df)  # Use only the region features for similarity calculation\n",
        "\n",
        "# Step 5: Align Customer IDs in both matrices\n",
        "# Ensure the user-product matrix and region_df have the same customer order\n",
        "common_customers = customers['CustomerID'].isin(user_product_matrix.index)\n",
        "customers_aligned = customers[common_customers].reset_index(drop=True)\n",
        "region_df_aligned = region_df.loc[common_customers].reset_index(drop=True)\n",
        "\n",
        "# Recompute the content-based similarity matrix for the aligned customers\n",
        "profile_similarity_matrix = cosine_similarity(region_df_aligned)\n",
        "\n",
        "# Step 6: Combine Collaborative Filtering and Content-Based Filtering\n",
        "\n",
        "# Assign higher weight to Collaborative Filtering (CF) to make similarity scores closer to 1 (or around 0.9)\n",
        "weight_cf = 0.53  # Increase the weight of CF to make similarity scores stronger\n",
        "weight_cb = 0.47  # Decrease the weight of CB\n",
        "\n",
        "# Combine the two similarity matrices using a weighted sum\n",
        "combined_similarity = weight_cf * user_similarity_matrix + weight_cb * profile_similarity_matrix\n",
        "\n",
        "# Step 7: Create a map of cust_id to List[cust_id, score] and generate top 3 Lookalikes for each of the first 20 customers\n",
        "\n",
        "cust_dict = {}\n",
        "\n",
        "for i in range(20):  # For customers C0001 to C0020\n",
        "    customer_id = customers.iloc[i]['CustomerID']\n",
        "\n",
        "    # Get the similarity scores for this customer\n",
        "    similarity_scores = combined_similarity[i]\n",
        "\n",
        "    # Sort the similarity scores in descending order, excluding the customer itself (self-similarity)\n",
        "    similar_customers_indices = np.argsort(similarity_scores)[::-1][1:4]  # Get top 3 excluding the customer itself\n",
        "\n",
        "    # Get the customer IDs and scores of the top 3 most similar customers\n",
        "    similar_customer_ids = customers.iloc[similar_customers_indices]['CustomerID'].values\n",
        "    similar_customer_scores = similarity_scores[similar_customers_indices]\n",
        "\n",
        "    # Map the current customer to a list of lookalikes with scores\n",
        "    cust_dict[customer_id] = [\n",
        "        [similar_customer_ids[0], similar_customer_scores[0]],\n",
        "        [similar_customer_ids[1], similar_customer_scores[1]],\n",
        "        [similar_customer_ids[2], similar_customer_scores[2]],\n",
        "    ]\n",
        "\n",
        "# Step 8: Flatten the dictionary into a DataFrame with 7 columns\n",
        "\n",
        "flattened_results = []\n",
        "\n",
        "for customer_id, lookalikes in cust_dict.items():\n",
        "    row = [customer_id]\n",
        "    for lookalike in lookalikes:\n",
        "        row.extend(lookalike)  # Add the lookalike customer ID and score\n",
        "    flattened_results.append(row)\n",
        "\n",
        "# Create the DataFrame with 7 columns\n",
        "lookalike_df = pd.DataFrame(flattened_results, columns=[\"CustomerID\",\n",
        "                                                      \"Lookalike_CustomerID_1\", \"Score_1\",\n",
        "                                                      \"Lookalike_CustomerID_2\", \"Score_2\",\n",
        "                                                      \"Lookalike_CustomerID_3\", \"Score_3\"])\n",
        "\n",
        "# Step 9: Save the Lookalike Recommendations to a CSV file\n",
        "lookalike_df.to_csv(\"Lookalike.csv\", index=False)\n",
        "\n",
        "print(\"Lookalike recommendations saved to Lookalike.csv\")\n"
      ],
      "metadata": {
        "colab": {
          "base_uri": "https://localhost:8080/"
        },
        "id": "5Nvlah8EwDD2",
        "outputId": "c4ea49c0-c750-4edb-8797-d8c1a7e98f4c"
      },
      "execution_count": 24,
      "outputs": [
        {
          "output_type": "stream",
          "name": "stdout",
          "text": [
            "Lookalike recommendations saved to Lookalike.csv\n"
          ]
        }
      ]
    },
    {
      "cell_type": "code",
      "source": [],
      "metadata": {
        "id": "eYHKKvQ-xmOK"
      },
      "execution_count": null,
      "outputs": []
    }
  ]
}